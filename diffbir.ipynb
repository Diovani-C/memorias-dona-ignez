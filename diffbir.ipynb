{
  "cells": [
    {
      "cell_type": "markdown",
      "metadata": {},
      "source": [
        "# DiffBIR: Towards Blind Image Restoration with Generative Diffusion Prior\n",
        "\n",
        "[Paper](https://arxiv.org/abs/2308.15070) | [Project Page](https://0x3f3f3f3fun.github.io/projects/diffbir/)\n",
        "\n",
        "![DiffBIR Logo](assets/logo.png)\n",
        "\n",
        "This notebook demonstrates how to run DiffBIR on Google Colab. It will:\n",
        "1. Clone the DiffBIR repository\n",
        "2. Install required Python dependencies\n",
        "3. Download pre-trained weights (example for DiffBIR v2.1)\n",
        "4. Launch the Gradio demo interface for inference\n",
        "\n",
        "For users with lower VRAM, consider adjusting options (e.g. use a different captioner)."
      ]
    },
    {
      "cell_type": "code",
      "execution_count": null,
      "metadata": {},
      "outputs": [],
      "source": [
        "# Clone the DiffBIR repository\n",
        "!git clone https://github.com/XPixelGroup/DiffBIR.git\n",
        "%cd DiffBIR"
      ]
    },
    {
      "cell_type": "code",
      "execution_count": null,
      "metadata": {},
      "outputs": [],
      "source": [
        "# Install the required dependencies\n",
        "!pip install -r requirements.txt"
      ]
    },
    {
      "cell_type": "markdown",
      "metadata": {},
      "source": [
        "## Download Pre-trained Models\n",
        "\n",
        "This cell creates a `weights` folder and downloads an example pre-trained weight for DiffBIR (v2.1). \n",
        "You can replace the URL with any other model weight links provided in the repository if needed."
      ]
    },
    {
      "cell_type": "code",
      "execution_count": null,
      "metadata": {},
      "outputs": [],
      "source": [
        "import os\n",
        "\n",
        "if not os.path.exists('weights'):\n",
        "    os.makedirs('weights')\n",
        "\n",
        "# Example: Download DiffBIR v2.1 model weight (change URL as required)\n",
        "model_url = \"https://huggingface.co/lxq007/DiffBIR-v2/resolve/main/DiffBIR_v2.1.pt\"\n",
        "model_path = \"weights/DiffBIR_v2.1.pt\"\n",
        "\n",
        "if not os.path.exists(model_path):\n",
        "    !wget -O {model_path} {model_url}\n",
        "else:\n",
        "    print('Model already downloaded.')"
      ]
    },
    {
      "cell_type": "markdown",
      "metadata": {},
      "source": [
        "## Launch the Gradio Demo\n",
        "\n",
        "Now we run the demo Gradio web UI. For this example, we use the command from the repository’s quick start. \n",
        "\n",
        "For low-VRAM devices you may set the captioner to `ram` or `none` (here we use `llava`).\n",
        "\n",
        "After the cell runs, a link to the Gradio web UI (typically at `http://localhost:7860`) will be provided."
      ]
    },
    {
      "cell_type": "code",
      "execution_count": null,
      "metadata": {},
      "outputs": [],
      "source": [
        "# Run the Gradio demo\n",
        "!python run_gradio.py --captioner llava"
      ]
    }
  ],
  "metadata": {
    "colab": {
      "name": "DiffBIR_Colab.ipynb",
      "provenance": []
    },
    "kernelspec": {
      "display_name": "Python 3",
      "language": "python",
      "name": "python3"
    },
    "language_info": {
      "name": "python"
    }
  },
  "nbformat": 4,
  "nbformat_minor": 2
}
